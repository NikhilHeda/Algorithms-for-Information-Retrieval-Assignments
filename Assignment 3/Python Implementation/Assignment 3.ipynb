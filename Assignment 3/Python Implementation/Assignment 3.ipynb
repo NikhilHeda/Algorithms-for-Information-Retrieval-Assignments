{
 "cells": [
  {
   "cell_type": "markdown",
   "metadata": {},
   "source": [
    "# Importing libraries"
   ]
  },
  {
   "cell_type": "code",
   "execution_count": 1,
   "metadata": {
    "collapsed": true
   },
   "outputs": [],
   "source": [
    "# Word Tokenizer\n",
    "from nltk import word_tokenize\n",
    "\n",
    "# To load the sentence tokenzier from a .pickle file\n",
    "import nltk.data\n",
    "\n",
    "# Stemmers and lemmatizers\n",
    "from nltk.stem import WordNetLemmatizer, PorterStemmer, LancasterStemmer\n",
    "\n",
    "# Stopwords\n",
    "from nltk.corpus import stopwords\n",
    "\n",
    "# Data Handling\n",
    "import pandas as pd\n",
    "import string\n",
    "\n",
    "# Jupyter specific setting\n",
    "%matplotlib inline"
   ]
  },
  {
   "cell_type": "markdown",
   "metadata": {},
   "source": [
    "# Tokenization"
   ]
  },
  {
   "cell_type": "code",
   "execution_count": 2,
   "metadata": {
    "collapsed": true
   },
   "outputs": [],
   "source": [
    "# Word Tokenization\n",
    "def word_tokens(s):\n",
    "    tokenizer = nltk.tokenize.RegexpTokenizer(r'\\w+')\n",
    "    return tokenizer.tokenize(s)\n",
    "\n",
    "def word_tokens_2(s):\n",
    "    return word_tokenize(s)"
   ]
  },
  {
   "cell_type": "markdown",
   "metadata": {},
   "source": [
    "# Stemming"
   ]
  },
  {
   "cell_type": "code",
   "execution_count": 3,
   "metadata": {
    "collapsed": true
   },
   "outputs": [],
   "source": [
    "def stemmer(word):\n",
    "    porter_stemmer = PorterStemmer()\n",
    "    return porter_stemmer.stem(word)\n",
    "\n",
    "def lancaster_stemmer(word):\n",
    "    l = LancasterStemmer()\n",
    "    return l.stem(word)"
   ]
  },
  {
   "cell_type": "markdown",
   "metadata": {},
   "source": [
    "# Stop Word Removal"
   ]
  },
  {
   "cell_type": "code",
   "execution_count": 4,
   "metadata": {
    "collapsed": true
   },
   "outputs": [],
   "source": [
    "def stop_word_removal(s):\n",
    "    res = []\n",
    "    to_remove = stopwords.words('english')\n",
    "    return [word for word in s if word not in to_remove]"
   ]
  },
  {
   "cell_type": "markdown",
   "metadata": {},
   "source": [
    "# Normalization"
   ]
  },
  {
   "cell_type": "code",
   "execution_count": 5,
   "metadata": {
    "collapsed": true
   },
   "outputs": [],
   "source": [
    "def normalizer(word):\n",
    "    translate = {\n",
    "        '1':'one',\n",
    "        '2':'two',\n",
    "        '3':'three',\n",
    "        '4':'four',\n",
    "        '5':'five',\n",
    "        '6':'six',\n",
    "        '7':'seven',\n",
    "        '8':'eight',\n",
    "        '9':'nine',\n",
    "        '0':'zero'\n",
    "    }\n",
    "\n",
    "    abbreviations = {\n",
    "        'usa' : 'united states of america', \n",
    "        'gb' : 'great britain', \n",
    "        'rs':'rupees'\n",
    "    }\n",
    "\n",
    "    punctuations = set(string.punctuation)\n",
    "\n",
    "    # Convert all letters to lower case\n",
    "    word = str.lower(word)\n",
    "\n",
    "    # Removing punctuations from word\n",
    "    word = ''.join([letter for letter in word if letter not in punctuations ])\n",
    "\n",
    "    # Converting Numbers into words\n",
    "    try:\n",
    "        x = int(word)\n",
    "    except ValueError:\n",
    "        pass\n",
    "    else:\n",
    "        word = ' '.join([translate[digit] for digit in word])\n",
    "\n",
    "    # Expanding Abbreviations\n",
    "    if word in abbreviations:\n",
    "        word = abbreviations[word]\n",
    "    \n",
    "    return word"
   ]
  },
  {
   "cell_type": "markdown",
   "metadata": {},
   "source": [
    "# Putting it Together"
   ]
  },
  {
   "cell_type": "code",
   "execution_count": 6,
   "metadata": {
    "collapsed": true
   },
   "outputs": [],
   "source": [
    "# Reading Raw text\n",
    "data = ''\n",
    "filename = 'TIME.ALL'\n",
    "with open(filename) as f:\n",
    "    data = f.read()\n",
    "\n",
    "# Tokenizing\n",
    "tokens = word_tokens_2(data)\n",
    "tokenized_text = ' '.join(tokens)#nltk.Text(tokens)\n",
    "\n",
    "# Normalizing tokens\n",
    "normalized = [ normalizer(token) for token in tokens]\n",
    "normalized_text = ' '.join(normalized)#nltk.Text(normalized)\n",
    "\n",
    "# Stop word removal\n",
    "processed = stop_word_removal(normalized)\n",
    "processed_text = ' '.join(processed)\n",
    "\n",
    "# Stemming words\n",
    "#stems = [ lancaster_stemmer(term) for term in processed]\n",
    "stems = [ stemmer(term) for term in processed]\n",
    "stemmed_text = ' '.join(stems)#nltk.Text(stems)"
   ]
  },
  {
   "cell_type": "markdown",
   "metadata": {},
   "source": [
    "# Analytics"
   ]
  },
  {
   "cell_type": "code",
   "execution_count": 7,
   "metadata": {
    "collapsed": true
   },
   "outputs": [],
   "source": [
    "# Computing number of distinct terms\n",
    "original = len(set(data.split()))\n",
    "token_size = len(set(tokens))\n",
    "normalized_size = len(set(normalized))\n",
    "processed_size = len(set(processed))\n",
    "stems_size = len(set(stems))"
   ]
  },
  {
   "cell_type": "code",
   "execution_count": 8,
   "metadata": {
    "collapsed": true
   },
   "outputs": [],
   "source": [
    "# Percentage increase/decrease\n",
    "a = ((token_size - original) / original) * 100\n",
    "b = ((normalized_size - token_size) / token_size) * 100\n",
    "c = ((processed_size - normalized_size) / normalized_size) * 100\n",
    "d = ((stems_size - processed_size) / processed_size) * 100"
   ]
  },
  {
   "cell_type": "code",
   "execution_count": 9,
   "metadata": {},
   "outputs": [
    {
     "data": {
      "text/html": [
       "<div>\n",
       "<style>\n",
       "    .dataframe thead tr:only-child th {\n",
       "        text-align: right;\n",
       "    }\n",
       "\n",
       "    .dataframe thead th {\n",
       "        text-align: left;\n",
       "    }\n",
       "\n",
       "    .dataframe tbody tr th {\n",
       "        vertical-align: top;\n",
       "    }\n",
       "</style>\n",
       "<table border=\"1\" class=\"dataframe\">\n",
       "  <thead>\n",
       "    <tr style=\"text-align: right;\">\n",
       "      <th></th>\n",
       "      <th>Preprocessing Technique</th>\n",
       "      <th>Number</th>\n",
       "      <th>Delta %</th>\n",
       "      <th>Cummulative %</th>\n",
       "    </tr>\n",
       "  </thead>\n",
       "  <tbody>\n",
       "    <tr>\n",
       "      <th>0</th>\n",
       "      <td>Original</td>\n",
       "      <td>29829</td>\n",
       "      <td>0</td>\n",
       "      <td>0</td>\n",
       "    </tr>\n",
       "    <tr>\n",
       "      <th>1</th>\n",
       "      <td>Word Tokenization</td>\n",
       "      <td>23633</td>\n",
       "      <td>-20.7717</td>\n",
       "      <td>-20.7717</td>\n",
       "    </tr>\n",
       "    <tr>\n",
       "      <th>2</th>\n",
       "      <td>Normalization</td>\n",
       "      <td>23291</td>\n",
       "      <td>-1.44713</td>\n",
       "      <td>-22.2189</td>\n",
       "    </tr>\n",
       "    <tr>\n",
       "      <th>3</th>\n",
       "      <td>Stop Word Removal</td>\n",
       "      <td>23157</td>\n",
       "      <td>-0.57533</td>\n",
       "      <td>-22.7942</td>\n",
       "    </tr>\n",
       "    <tr>\n",
       "      <th>4</th>\n",
       "      <td>Stemming</td>\n",
       "      <td>16176</td>\n",
       "      <td>-30.1464</td>\n",
       "      <td>-52.9406</td>\n",
       "    </tr>\n",
       "  </tbody>\n",
       "</table>\n",
       "</div>"
      ],
      "text/plain": [
       "  Preprocessing Technique Number  Delta % Cummulative %\n",
       "0                Original  29829        0             0\n",
       "1       Word Tokenization  23633 -20.7717      -20.7717\n",
       "2           Normalization  23291 -1.44713      -22.2189\n",
       "3       Stop Word Removal  23157 -0.57533      -22.7942\n",
       "4                Stemming  16176 -30.1464      -52.9406"
      ]
     },
     "execution_count": 9,
     "metadata": {},
     "output_type": "execute_result"
    }
   ],
   "source": [
    "# Loading it into a dataframe\n",
    "results = pd.DataFrame([\n",
    "    ['Original', 'Word Tokenization', 'Normalization', 'Stop Word Removal', 'Stemming'],\n",
    "    [original, token_size, normalized_size, processed_size, stems_size],\n",
    "    [0, a, b, c, d],\n",
    "    [0, a, a+b, a+b+c, a+b+c+d]\n",
    "], index=['Preprocessing Technique', 'Number', 'Delta %', 'Cummulative %'])\n",
    "\n",
    "results = results.T\n",
    "\n",
    "results"
   ]
  },
  {
   "cell_type": "code",
   "execution_count": 10,
   "metadata": {
    "scrolled": true
   },
   "outputs": [
    {
     "data": {
      "image/png": "[encoded data removed]",
      "text/plain": [
       "<matplotlib.figure.Figure at 0x1a9dd86fef0>"
      ]
     },
     "metadata": {},
     "output_type": "display_data"
    }
   ],
   "source": [
    "import matplotlib.pyplot as plt\n",
    "import numpy as np\n",
    "\n",
    "def plot(before, after):\n",
    "    '''\n",
    "    Name of the function: plot\n",
    "    Parameters:\n",
    "        before: A list of #tokens before stemming, lemmatisation, normalisation, stop word removal\n",
    "        after: A list of #tokens after stemming lemmatisation, normalisation, stop word removal\n",
    "    Funcitonality: Plot simultaneous bar graph\n",
    "    '''\n",
    "    x = np.arange(len(before))  \n",
    "    width = 0.25       \n",
    "\n",
    "    fig, ax = plt.subplots()\n",
    "    bar1 = ax.bar(x, before, width, color='yellow')\n",
    "    bar2 = ax.bar(x + width, after, width, color='lightgreen')\n",
    "\n",
    "    ax.set_ylabel('# Distinct Words')\n",
    "    ax.set_title('# Distinct Words by process')\n",
    "    ax.set_xticks(x + width)\n",
    "    ax.set_xticklabels(('Word Tokenization', 'Normalization', 'Stop Word Removal', 'Stemming'))\n",
    "    ax.legend((bar1[0], bar2[0]), ('Before', 'After'))\n",
    "\n",
    "    plt.show()\n",
    "    \n",
    "plot([original] * 4, [token_size, normalized_size, processed_size, stems_size])  "
   ]
  },
  {
   "cell_type": "markdown",
   "metadata": {},
   "source": [
    "# Additional Techniques"
   ]
  },
  {
   "cell_type": "markdown",
   "metadata": {},
   "source": [
    "## Sentence Tokenization"
   ]
  },
  {
   "cell_type": "code",
   "execution_count": 11,
   "metadata": {
    "collapsed": true
   },
   "outputs": [],
   "source": [
    "def sentence_tokeinize(s):\n",
    "    tokenizer = nltk.data.load('tokenizers/punkt/english.pickle')\n",
    "    return tokenizer.tokenize(s)"
   ]
  },
  {
   "cell_type": "markdown",
   "metadata": {},
   "source": [
    "## Lemmatization"
   ]
  },
  {
   "cell_type": "code",
   "execution_count": 12,
   "metadata": {
    "collapsed": true
   },
   "outputs": [],
   "source": [
    "def lemmatize(word):\n",
    "    wordnet_lemmatizer = WordNetLemmatizer()\n",
    "    return wordnet_lemmatizer.lemmatize(word)"
   ]
  },
  {
   "cell_type": "markdown",
   "metadata": {},
   "source": [
    "## Testing the above functions"
   ]
  },
  {
   "cell_type": "code",
   "execution_count": 13,
   "metadata": {},
   "outputs": [
    {
     "data": {
      "text/plain": [
       "(\"hello, how are you? i'm fine what about you? this is great!\",\n",
       " ['hello, how are you?', \"i'm fine what about you?\", 'this is great!'],\n",
       " ['i', \"'m\", 'fine', 'what', 'about', 'you', '?'],\n",
       " [\"'m\", 'fine', '?'])"
      ]
     },
     "execution_count": 13,
     "metadata": {},
     "output_type": "execute_result"
    }
   ],
   "source": [
    "sentence = \"Hello, How are you? I'm fine what about you? This is great!\"\n",
    "sentence = sentence.lower()\n",
    "s = sentence_tokeinize(sentence)\n",
    "words = word_tokens_2(s[1])\n",
    "processed_sent = stop_word_removal(words)\n",
    "\n",
    "sentence, s, words, processed_sent"
   ]
  },
  {
   "cell_type": "code",
   "execution_count": 14,
   "metadata": {},
   "outputs": [
    {
     "data": {
      "text/plain": [
       "['carcass', 'dog', 'church', 'wolf', 'abacus', 'hardrock', 'this']"
      ]
     },
     "execution_count": 14,
     "metadata": {},
     "output_type": "execute_result"
    }
   ],
   "source": [
    "a = []\n",
    "a.append(lemmatize(\"carcasses\"))\n",
    "a.append(lemmatize('dogs'))\n",
    "a.append(lemmatize('churches'))\n",
    "a.append(lemmatize('wolves'))\n",
    "a.append(lemmatize('abaci'))\n",
    "a.append(lemmatize('hardrock'))\n",
    "a.append(lemmatize('this'))\n",
    "a"
   ]
  },
  {
   "cell_type": "code",
   "execution_count": 15,
   "metadata": {},
   "outputs": [
    {
     "data": {
      "text/plain": [
       "['carcass', 'dog', 'church', 'wolv', 'abaci', 'hardrock']"
      ]
     },
     "execution_count": 15,
     "metadata": {},
     "output_type": "execute_result"
    }
   ],
   "source": [
    "a = []\n",
    "a.append(stemmer('carcasses'))\n",
    "a.append(stemmer('dogs'))\n",
    "a.append(stemmer('churches'))\n",
    "a.append(stemmer('wolves'))\n",
    "a.append(stemmer('abaci'))\n",
    "a.append(stemmer('hardrock'))\n",
    "a"
   ]
  },
  {
   "cell_type": "code",
   "execution_count": 16,
   "metadata": {},
   "outputs": [
    {
     "data": {
      "text/plain": [
       "'tokenizer'"
      ]
     },
     "execution_count": 16,
     "metadata": {},
     "output_type": "execute_result"
    }
   ],
   "source": [
    "lemmatize('tokenizer')"
   ]
  },
  {
   "cell_type": "code",
   "execution_count": 17,
   "metadata": {},
   "outputs": [
    {
     "data": {
      "text/plain": [
       "'token'"
      ]
     },
     "execution_count": 17,
     "metadata": {},
     "output_type": "execute_result"
    }
   ],
   "source": [
    "stemmer('tokenizer')"
   ]
  },
  {
   "cell_type": "code",
   "execution_count": 18,
   "metadata": {},
   "outputs": [
    {
     "data": {
      "text/plain": [
       "'woman'"
      ]
     },
     "execution_count": 18,
     "metadata": {},
     "output_type": "execute_result"
    }
   ],
   "source": [
    "lemmatize('women')"
   ]
  },
  {
   "cell_type": "code",
   "execution_count": null,
   "metadata": {
    "collapsed": true
   },
   "outputs": [],
   "source": []
  }
 ],
 "metadata": {
  "kernelspec": {
   "display_name": "Python 3",
   "language": "python",
   "name": "python3"
  },
  "language_info": {
   "codemirror_mode": {
    "name": "ipython",
    "version": 3
   },
   "file_extension": ".py",
   "mimetype": "text/x-python",
   "name": "python",
   "nbconvert_exporter": "python",
   "pygments_lexer": "ipython3",
   "version": "3.6.1"
  }
 },
 "nbformat": 4,
 "nbformat_minor": 2
}
