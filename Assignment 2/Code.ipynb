{
 "cells": [
  {
   "cell_type": "markdown",
   "metadata": {},
   "source": [
    "# Importing libraries"
   ]
  },
  {
   "cell_type": "code",
   "execution_count": 1,
   "metadata": {
    "collapsed": true
   },
   "outputs": [],
   "source": [
    "import pandas as pd\n",
    "from nltk.tokenize import RegexpTokenizer\n",
    "from collections import defaultdict"
   ]
  },
  {
   "cell_type": "markdown",
   "metadata": {},
   "source": [
    "# Loading Data and Tokenizers"
   ]
  },
  {
   "cell_type": "code",
   "execution_count": 2,
   "metadata": {
    "collapsed": true
   },
   "outputs": [],
   "source": [
    "data = pd.read_csv('wikipedia-sentences.csv', delimiter='\\t', names=['URL', 'Text'])\n",
    "tokenizer = RegexpTokenizer(r'\\w+')\n",
    "index = defaultdict(list)"
   ]
  },
  {
   "cell_type": "markdown",
   "metadata": {},
   "source": [
    "# Preprocessing Functions"
   ]
  },
  {
   "cell_type": "code",
   "execution_count": 3,
   "metadata": {
    "collapsed": true
   },
   "outputs": [],
   "source": [
    "def convert_to_lower(s):\n",
    "    return s.lower()\n",
    "\n",
    "def tokenize(s):\n",
    "    return tokenizer.tokenize(s)"
   ]
  },
  {
   "cell_type": "markdown",
   "metadata": {},
   "source": [
    "# Building Inverted Index"
   ]
  },
  {
   "cell_type": "code",
   "execution_count": 8,
   "metadata": {},
   "outputs": [
    {
     "name": "stdout",
     "output_type": "stream",
     "text": [
      "Total: 1112388\n",
      "1112387\r"
     ]
    }
   ],
   "source": [
    "print('Total:', len(data['Text']))\n",
    "for doc_id, text in enumerate(data['Text'], start=0):\n",
    "    print(doc_id, end='\\r')\n",
    "    terms = tokenize(convert_to_lower(text))\n",
    "    for term in set(terms):\n",
    "        index[term].append(doc_id)"
   ]
  },
  {
   "cell_type": "code",
   "execution_count": 9,
   "metadata": {},
   "outputs": [
    {
     "data": {
      "text/plain": [
       "335844"
      ]
     },
     "execution_count": 9,
     "metadata": {},
     "output_type": "execute_result"
    }
   ],
   "source": [
    "len(index)"
   ]
  },
  {
   "cell_type": "markdown",
   "metadata": {},
   "source": [
    "# Query Functions"
   ]
  },
  {
   "cell_type": "markdown",
   "metadata": {},
   "source": [
    "## Retrieve operation\n",
    "__Input__: term <br>\n",
    "__Output__: posting list of the term, if exists"
   ]
  },
  {
   "cell_type": "code",
   "execution_count": 10,
   "metadata": {
    "collapsed": true
   },
   "outputs": [],
   "source": [
    "def one_word_query(word):\n",
    "    return index[word] if word in index else None"
   ]
  },
  {
   "cell_type": "markdown",
   "metadata": {},
   "source": [
    "## AND operation\n",
    "__Input__: 2 posting lists<br>\n",
    "__Output__: Intersection of the 2 posting lists"
   ]
  },
  {
   "cell_type": "code",
   "execution_count": 11,
   "metadata": {
    "collapsed": true
   },
   "outputs": [],
   "source": [
    "def And(p1, p2):\n",
    "    result = list()\n",
    "\n",
    "    i = j = 0\n",
    "    while i < len(p1) and j < len(p2):\n",
    "        if p1[i] == p2[j]:\n",
    "            result.append(p1[i])\n",
    "            i += 1\n",
    "            j += 1\n",
    "        elif p1[i] < p2[j]:\n",
    "            i += 1\n",
    "        else:\n",
    "            j += 1\n",
    "\n",
    "    return result"
   ]
  },
  {
   "cell_type": "markdown",
   "metadata": {},
   "source": [
    "## AND operation returns top k documents\n",
    "__Input__: 2 posting lists, k<br>\n",
    "__Output__: Intersection of the 2 posting lists (top k)"
   ]
  },
  {
   "cell_type": "code",
   "execution_count": 12,
   "metadata": {
    "collapsed": true
   },
   "outputs": [],
   "source": [
    "def get_top_k(p1, p2, k):\n",
    "    result = list()\n",
    "\n",
    "    i = j = 0\n",
    "    while i < len(p1) and j < len(p2) and k != 0:\n",
    "        if p1[i] == p2[j]:\n",
    "            result.append(p1[i])\n",
    "            i += 1\n",
    "            j += 1\n",
    "            k -= 1\n",
    "        elif p1[i] < p2[j]:\n",
    "            i += 1\n",
    "        else:\n",
    "            j += 1\n",
    "\n",
    "    return result"
   ]
  },
  {
   "cell_type": "markdown",
   "metadata": {},
   "source": [
    "# Testing"
   ]
  },
  {
   "cell_type": "code",
   "execution_count": 13,
   "metadata": {},
   "outputs": [
    {
     "data": {
      "text/plain": [
       "0    Alain Connes (born 1 April 1947) is a French m...\n",
       "1                                                 Work\n",
       "2    Alain Connes is one of the leading specialists...\n",
       "3    In his early work on von Neumann algebras in t...\n",
       "4    Following this he made contributions in operat...\n",
       "Name: Text, dtype: object"
      ]
     },
     "execution_count": 13,
     "metadata": {},
     "output_type": "execute_result"
    }
   ],
   "source": [
    "data['Text'].head()"
   ]
  },
  {
   "cell_type": "code",
   "execution_count": 14,
   "metadata": {
    "collapsed": true
   },
   "outputs": [],
   "source": [
    "query = ['alain', 'connes']"
   ]
  },
  {
   "cell_type": "code",
   "execution_count": 15,
   "metadata": {
    "collapsed": true
   },
   "outputs": [],
   "source": [
    "result1 = And(one_word_query(query[0]), one_word_query(query[1]))"
   ]
  },
  {
   "cell_type": "code",
   "execution_count": 16,
   "metadata": {},
   "outputs": [
    {
     "data": {
      "text/plain": [
       "[0, 2, 42464, 238079, 288256, 378032, 439319, 484809, 757342, 805010, 870314]"
      ]
     },
     "execution_count": 16,
     "metadata": {},
     "output_type": "execute_result"
    }
   ],
   "source": [
    "result1"
   ]
  },
  {
   "cell_type": "code",
   "execution_count": 17,
   "metadata": {
    "collapsed": true
   },
   "outputs": [],
   "source": [
    "result2 = get_top_k(one_word_query(query[0]), one_word_query(query[1]), k=5)"
   ]
  },
  {
   "cell_type": "code",
   "execution_count": 18,
   "metadata": {},
   "outputs": [
    {
     "data": {
      "text/plain": [
       "[0, 2, 42464, 238079, 288256]"
      ]
     },
     "execution_count": 18,
     "metadata": {},
     "output_type": "execute_result"
    }
   ],
   "source": [
    "result2"
   ]
  },
  {
   "cell_type": "markdown",
   "metadata": {},
   "source": [
    "# Getting the URLs given doc id"
   ]
  },
  {
   "cell_type": "code",
   "execution_count": 19,
   "metadata": {},
   "outputs": [
    {
     "data": {
      "text/html": [
       "<div>\n",
       "<style>\n",
       "    .dataframe thead tr:only-child th {\n",
       "        text-align: right;\n",
       "    }\n",
       "\n",
       "    .dataframe thead th {\n",
       "        text-align: left;\n",
       "    }\n",
       "\n",
       "    .dataframe tbody tr th {\n",
       "        vertical-align: top;\n",
       "    }\n",
       "</style>\n",
       "<table border=\"1\" class=\"dataframe\">\n",
       "  <thead>\n",
       "    <tr style=\"text-align: right;\">\n",
       "      <th></th>\n",
       "      <th>URL</th>\n",
       "      <th>Text</th>\n",
       "    </tr>\n",
       "  </thead>\n",
       "  <tbody>\n",
       "    <tr>\n",
       "      <th>0</th>\n",
       "      <td>http://en.wikipedia.org/wiki/Alain_Connes</td>\n",
       "      <td>Alain Connes (born 1 April 1947) is a French m...</td>\n",
       "    </tr>\n",
       "    <tr>\n",
       "      <th>2</th>\n",
       "      <td>http://en.wikipedia.org/wiki/Alain_Connes</td>\n",
       "      <td>Alain Connes is one of the leading specialists...</td>\n",
       "    </tr>\n",
       "    <tr>\n",
       "      <th>42464</th>\n",
       "      <td>http://en.wikipedia.org/wiki/Michael_Atiyah</td>\n",
       "      <td>Other contemporary mathematicians who influenc...</td>\n",
       "    </tr>\n",
       "    <tr>\n",
       "      <th>238079</th>\n",
       "      <td>http://en.wikipedia.org/wiki/Carlo_Rovelli</td>\n",
       "      <td>In 1993, in collaboration with Alain Connes, R...</td>\n",
       "    </tr>\n",
       "    <tr>\n",
       "      <th>288256</th>\n",
       "      <td>http://en.wikipedia.org/wiki/William_Arveson</td>\n",
       "      <td>This theorem led naturally to the question of ...</td>\n",
       "    </tr>\n",
       "  </tbody>\n",
       "</table>\n",
       "</div>"
      ],
      "text/plain": [
       "                                                 URL  \\\n",
       "0          http://en.wikipedia.org/wiki/Alain_Connes   \n",
       "2          http://en.wikipedia.org/wiki/Alain_Connes   \n",
       "42464    http://en.wikipedia.org/wiki/Michael_Atiyah   \n",
       "238079    http://en.wikipedia.org/wiki/Carlo_Rovelli   \n",
       "288256  http://en.wikipedia.org/wiki/William_Arveson   \n",
       "\n",
       "                                                     Text  \n",
       "0       Alain Connes (born 1 April 1947) is a French m...  \n",
       "2       Alain Connes is one of the leading specialists...  \n",
       "42464   Other contemporary mathematicians who influenc...  \n",
       "238079  In 1993, in collaboration with Alain Connes, R...  \n",
       "288256  This theorem led naturally to the question of ...  "
      ]
     },
     "execution_count": 19,
     "metadata": {},
     "output_type": "execute_result"
    }
   ],
   "source": [
    "data.iloc[result2]"
   ]
  },
  {
   "cell_type": "code",
   "execution_count": null,
   "metadata": {
    "collapsed": true
   },
   "outputs": [],
   "source": []
  }
 ],
 "metadata": {
  "kernelspec": {
   "display_name": "Python 3",
   "language": "python",
   "name": "python3"
  },
  "language_info": {
   "codemirror_mode": {
    "name": "ipython",
    "version": 3
   },
   "file_extension": ".py",
   "mimetype": "text/x-python",
   "name": "python",
   "nbconvert_exporter": "python",
   "pygments_lexer": "ipython3",
   "version": "3.6.1"
  }
 },
 "nbformat": 4,
 "nbformat_minor": 2
}
